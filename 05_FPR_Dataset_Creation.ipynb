{
  "nbformat": 4,
  "nbformat_minor": 0,
  "metadata": {
    "colab": {
      "provenance": []
    },
    "kernelspec": {
      "name": "python3",
      "display_name": "Python 3"
    },
    "language_info": {
      "name": "python"
    },
    "accelerator": "TPU"
  },
  "cells": [
    {
      "cell_type": "code",
      "execution_count": null,
      "metadata": {
        "id": "3-Zj0IG5019A"
      },
      "outputs": [],
      "source": [
        "import random\n",
        "import os\n",
        "import shutil\n",
        "from tqdm import tqdm"
      ]
    },
    {
      "cell_type": "code",
      "source": [
        "from google.colab import drive\n",
        "drive.mount('/content/gdrive')"
      ],
      "metadata": {
        "colab": {
          "base_uri": "https://localhost:8080/"
        },
        "id": "qkyIgCoy08Cw",
        "outputId": "0dab0de4-b1d8-4909-ade9-57d681f3df31"
      },
      "execution_count": null,
      "outputs": [
        {
          "output_type": "stream",
          "name": "stdout",
          "text": [
            "Mounted at /content/gdrive\n"
          ]
        }
      ]
    },
    {
      "cell_type": "code",
      "source": [
        "root = \"/content/gdrive/MyDrive/FPRProcessed/non-nodule-initial/\"\n",
        "target = \"/content/gdrive/MyDrive/FPRProcessed/non-nodule/\""
      ],
      "metadata": {
        "id": "ayMPxDpZ1AFH"
      },
      "execution_count": null,
      "outputs": []
    },
    {
      "cell_type": "code",
      "source": [
        "filelist = os.listdir(root)\n"
      ],
      "metadata": {
        "id": "-b76LU2t1Nd0"
      },
      "execution_count": null,
      "outputs": []
    },
    {
      "cell_type": "code",
      "source": [
        "len(filelist)\n"
      ],
      "metadata": {
        "colab": {
          "base_uri": "https://localhost:8080/"
        },
        "id": "LMUPrAC61Pn1",
        "outputId": "b132fb59-8b0d-47c0-e42c-52c2b044f9ea"
      },
      "execution_count": null,
      "outputs": [
        {
          "output_type": "execute_result",
          "data": {
            "text/plain": [
              "4275"
            ]
          },
          "metadata": {},
          "execution_count": 18
        }
      ]
    },
    {
      "cell_type": "code",
      "source": [
        "filelist[:10]\n"
      ],
      "metadata": {
        "colab": {
          "base_uri": "https://localhost:8080/"
        },
        "id": "Mo4-rxaI1RmZ",
        "outputId": "e8930ee3-2f66-43d3-a98a-0f8b8592d7f9"
      },
      "execution_count": null,
      "outputs": [
        {
          "output_type": "execute_result",
          "data": {
            "text/plain": [
              "['candidate_6_0_32979.jpg',\n",
              " 'candidate_6_0_32980.jpg',\n",
              " 'candidate_6_0_32981.jpg',\n",
              " 'candidate_6_0_32982.jpg',\n",
              " 'candidate_6_0_32983.jpg',\n",
              " 'candidate_6_0_32984.jpg',\n",
              " 'candidate_6_0_32985.jpg',\n",
              " 'candidate_6_0_32986.jpg',\n",
              " 'candidate_6_0_32987.jpg',\n",
              " 'candidate_6_0_32988.jpg']"
            ]
          },
          "metadata": {},
          "execution_count": 19
        }
      ]
    },
    {
      "cell_type": "code",
      "source": [
        "random.shuffle(filelist)\n"
      ],
      "metadata": {
        "id": "GnmoB5sr1Ykj"
      },
      "execution_count": null,
      "outputs": []
    },
    {
      "cell_type": "code",
      "source": [
        "filelist[:10]\n"
      ],
      "metadata": {
        "colab": {
          "base_uri": "https://localhost:8080/"
        },
        "id": "au8pP8mI1kGr",
        "outputId": "f8eac114-892d-4f88-db1d-fccab399fc25"
      },
      "execution_count": null,
      "outputs": [
        {
          "output_type": "execute_result",
          "data": {
            "text/plain": [
              "['candidate_6_0_31815.jpg',\n",
              " 'candidate_6_0_12679.jpg',\n",
              " 'candidate_6_0_32353.jpg',\n",
              " 'candidate_6_0_30111.jpg',\n",
              " 'candidate_6_0_29845.jpg',\n",
              " 'candidate_6_0_41185.jpg',\n",
              " 'candidate_6_0_12314.jpg',\n",
              " 'candidate_6_0_32330.jpg',\n",
              " 'candidate_6_0_31818.jpg',\n",
              " 'candidate_6_0_12693.jpg']"
            ]
          },
          "metadata": {},
          "execution_count": 21
        }
      ]
    },
    {
      "cell_type": "code",
      "source": [
        "# Number of non nodule images is too high compared to the number of nodule images.\n",
        "# Therefore, we will use only 2000 non nodule images.\n",
        "finalfiles = filelist[:2000]\n",
        "for file in tqdm(finalfiles, total=2000):\n",
        "    s = root+file\n",
        "    d = target+file\n",
        "    shutil.copy(s,d)"
      ],
      "metadata": {
        "colab": {
          "base_uri": "https://localhost:8080/"
        },
        "id": "SNKvVYYu1l_v",
        "outputId": "43411bb1-93ff-45f0-ff56-f9ee80065780"
      },
      "execution_count": null,
      "outputs": [
        {
          "output_type": "stream",
          "name": "stderr",
          "text": [
            "100%|██████████| 2000/2000 [00:58<00:00, 34.33it/s] \n"
          ]
        }
      ]
    },
    {
      "cell_type": "code",
      "source": [
        "os.chdir(\"/content/gdrive/MyDrive\")\n",
        "os.mkdir(\"FPRDataset\")\n",
        "os.mkdir(\"FPRDataset/train\")\n",
        "os.mkdir(\"FPRDataset/train/nodule\")\n",
        "os.mkdir(\"FPRDataset/train/non-nodule\")\n",
        "os.mkdir(\"FPRDataset/test\")\n",
        "os.mkdir(\"FPRDataset/test/nodule\")\n",
        "os.mkdir(\"FPRDataset/test/non-nodule\")"
      ],
      "metadata": {
        "id": "BKsdNFNh13Ut"
      },
      "execution_count": null,
      "outputs": []
    },
    {
      "cell_type": "code",
      "source": [
        "nodule_files = os.listdir(\"/content/gdrive/MyDrive/FPRProcessed/nodule/\")\n",
        "non_nodule_files = os.listdir(\"/content/gdrive/MyDrive/FPRProcessed/non-nodule/\")"
      ],
      "metadata": {
        "id": "IOgJNMuQ2QYU"
      },
      "execution_count": null,
      "outputs": []
    },
    {
      "cell_type": "code",
      "source": [
        "random.shuffle(nodule_files)\n",
        "random.shuffle(non_nodule_files)"
      ],
      "metadata": {
        "id": "c_DyfHa82V9c"
      },
      "execution_count": null,
      "outputs": []
    },
    {
      "cell_type": "code",
      "source": [
        "n = len(nodule_files)\n",
        "split = int(0.75*n)\n",
        "for i in nodule_files[:split]:\n",
        "    shutil.copy(f\"/content/gdrive/MyDrive/FPRProcessed/nodule/{i}\", f\"/content/gdrive/MyDrive/FPRDataset/train/nodule/{i}\")\n",
        "for i in nodule_files[split:]:\n",
        "    shutil.copy(f\"/content/gdrive/MyDrive/FPRProcessed/nodule/{i}\", f\"/content/gdrive/MyDrive/FPRDataset/test/nodule/{i}\")"
      ],
      "metadata": {
        "id": "rcAfa2932Yd1"
      },
      "execution_count": null,
      "outputs": []
    },
    {
      "cell_type": "code",
      "source": [
        "n = len(non_nodule_files)\n",
        "split = int(0.75*n)\n",
        "for i in non_nodule_files[:split]:\n",
        "    shutil.copy(f\"/content/gdrive/MyDrive/FPRProcessed/non-nodule/{i}\", f\"/content/gdrive/MyDrive/FPRDataset/train/non-nodule/{i}\")\n",
        "for i in non_nodule_files[split:]:\n",
        "    shutil.copy(f\"/content/gdrive/MyDrive/FPRProcessed/non-nodule/{i}\", f\"/content/gdrive/MyDrive/FPRDataset/test/non-nodule/{i}\")"
      ],
      "metadata": {
        "id": "Yr_lpssf2bjU"
      },
      "execution_count": null,
      "outputs": []
    },
    {
      "cell_type": "code",
      "source": [],
      "metadata": {
        "id": "CeR1tcDr2xJa"
      },
      "execution_count": null,
      "outputs": []
    }
  ]
}